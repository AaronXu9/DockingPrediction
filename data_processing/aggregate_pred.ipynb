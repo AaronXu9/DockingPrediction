{
 "cells": [
  {
   "cell_type": "code",
   "execution_count": 3,
   "metadata": {},
   "outputs": [],
   "source": [
    "import numpy as np\n",
    "import matplotlib.pyplot as plt\n",
    "import pandas as pd\n",
    "import os"
   ]
  },
  {
   "cell_type": "code",
   "execution_count": 21,
   "metadata": {},
   "outputs": [
    {
     "data": {
      "text/html": [
       "<div>\n",
       "<style scoped>\n",
       "    .dataframe tbody tr th:only-of-type {\n",
       "        vertical-align: middle;\n",
       "    }\n",
       "\n",
       "    .dataframe tbody tr th {\n",
       "        vertical-align: top;\n",
       "    }\n",
       "\n",
       "    .dataframe thead th {\n",
       "        text-align: right;\n",
       "    }\n",
       "</style>\n",
       "<table border=\"1\" class=\"dataframe\">\n",
       "  <thead>\n",
       "    <tr style=\"text-align: right;\">\n",
       "      <th></th>\n",
       "      <th>molid</th>\n",
       "      <th>Score</th>\n",
       "      <th>aoxu_nnetregCG_1M</th>\n",
       "      <th>aoxu_nnetregCG_500K</th>\n",
       "    </tr>\n",
       "  </thead>\n",
       "  <tbody>\n",
       "    <tr>\n",
       "      <th>0</th>\n",
       "      <td>1</td>\n",
       "      <td>-25.63</td>\n",
       "      <td>-21.60</td>\n",
       "      <td>-22.53</td>\n",
       "    </tr>\n",
       "    <tr>\n",
       "      <th>1</th>\n",
       "      <td>2</td>\n",
       "      <td>-23.03</td>\n",
       "      <td>-21.78</td>\n",
       "      <td>-22.52</td>\n",
       "    </tr>\n",
       "    <tr>\n",
       "      <th>2</th>\n",
       "      <td>3</td>\n",
       "      <td>-20.79</td>\n",
       "      <td>-21.78</td>\n",
       "      <td>-22.52</td>\n",
       "    </tr>\n",
       "    <tr>\n",
       "      <th>3</th>\n",
       "      <td>4</td>\n",
       "      <td>-20.35</td>\n",
       "      <td>-21.78</td>\n",
       "      <td>-22.52</td>\n",
       "    </tr>\n",
       "    <tr>\n",
       "      <th>4</th>\n",
       "      <td>5</td>\n",
       "      <td>-18.78</td>\n",
       "      <td>-21.78</td>\n",
       "      <td>-22.52</td>\n",
       "    </tr>\n",
       "    <tr>\n",
       "      <th>...</th>\n",
       "      <td>...</td>\n",
       "      <td>...</td>\n",
       "      <td>...</td>\n",
       "      <td>...</td>\n",
       "    </tr>\n",
       "    <tr>\n",
       "      <th>9995</th>\n",
       "      <td>9996</td>\n",
       "      <td>-10.93</td>\n",
       "      <td>-19.53</td>\n",
       "      <td>-17.85</td>\n",
       "    </tr>\n",
       "    <tr>\n",
       "      <th>9996</th>\n",
       "      <td>9997</td>\n",
       "      <td>-13.38</td>\n",
       "      <td>-19.33</td>\n",
       "      <td>-17.84</td>\n",
       "    </tr>\n",
       "    <tr>\n",
       "      <th>9997</th>\n",
       "      <td>9998</td>\n",
       "      <td>-13.11</td>\n",
       "      <td>-19.57</td>\n",
       "      <td>-17.51</td>\n",
       "    </tr>\n",
       "    <tr>\n",
       "      <th>9998</th>\n",
       "      <td>9999</td>\n",
       "      <td>-22.01</td>\n",
       "      <td>-19.53</td>\n",
       "      <td>-17.85</td>\n",
       "    </tr>\n",
       "    <tr>\n",
       "      <th>9999</th>\n",
       "      <td>10000</td>\n",
       "      <td>-18.58</td>\n",
       "      <td>-19.33</td>\n",
       "      <td>-17.84</td>\n",
       "    </tr>\n",
       "  </tbody>\n",
       "</table>\n",
       "<p>10000 rows × 4 columns</p>\n",
       "</div>"
      ],
      "text/plain": [
       "      molid  Score  aoxu_nnetregCG_1M  aoxu_nnetregCG_500K\n",
       "0         1 -25.63             -21.60               -22.53\n",
       "1         2 -23.03             -21.78               -22.52\n",
       "2         3 -20.79             -21.78               -22.52\n",
       "3         4 -20.35             -21.78               -22.52\n",
       "4         5 -18.78             -21.78               -22.52\n",
       "...     ...    ...                ...                  ...\n",
       "9995   9996 -10.93             -19.53               -17.85\n",
       "9996   9997 -13.38             -19.33               -17.84\n",
       "9997   9998 -13.11             -19.57               -17.51\n",
       "9998   9999 -22.01             -19.53               -17.85\n",
       "9999  10000 -18.58             -19.33               -17.84\n",
       "\n",
       "[10000 rows x 4 columns]"
      ]
     },
     "execution_count": 21,
     "metadata": {},
     "output_type": "execute_result"
    }
   ],
   "source": [
    "# Define the folder path\n",
    "folder_path = \"../results\"\n",
    "\n",
    "# Get the list of .csv files containing \"aoxu\" keyword\n",
    "file_list = [file for file in os.listdir(folder_path) if file.endswith(\".csv\") and \"aoxu\" in file]\n",
    "\n",
    "# Initialize an empty DataFrame to store the data\n",
    "df_combined = pd.DataFrame()\n",
    "\n",
    "# Iterate over each file\n",
    "for file in file_list:\n",
    "    # Load the .csv file\n",
    "    file_path = os.path.join(folder_path, file)\n",
    "    df = pd.read_csv(file_path)\n",
    "    \n",
    "    # Extract the required columns\n",
    "    df_selected = df[['molid', 'Score', df.columns[-1]]]\n",
    "    if 'molid' not in df_combined.columns:\n",
    "        df_combined = df_selected\n",
    "    else:\n",
    "        # Merge the selected data with the combined DataFrame\n",
    "        df_combined = pd.merge(df_combined, df_selected, on=['molid', 'Score'], how='outer')\n",
    "\n",
    "# Display the combined DataFrame\n",
    "df_combined"
   ]
  },
  {
   "cell_type": "code",
   "execution_count": 22,
   "metadata": {},
   "outputs": [
    {
     "data": {
      "text/plain": [
       "(-0.1635285634530863, -0.16324710322350477)"
      ]
     },
     "execution_count": 22,
     "metadata": {},
     "output_type": "execute_result"
    }
   ],
   "source": [
    "from sklearn.metrics import r2_score, explained_variance_score\n",
    "\n",
    "# Compute R^2 score\n",
    "r2 = r2_score(df_combined['Score'], df_combined['aoxu_nnetregCG_500K'])\n",
    "\n",
    "# Compute Q^2 score\n",
    "q2 = explained_variance_score(df_combined['Score'], df_combined['aoxu_nnetregCG_500K'])\n",
    "\n",
    "r2, q2\n"
   ]
  },
  {
   "cell_type": "code",
   "execution_count": 23,
   "metadata": {},
   "outputs": [
    {
     "data": {
      "text/plain": [
       "(-0.13735059039629727, -0.05050949567552476)"
      ]
     },
     "execution_count": 23,
     "metadata": {},
     "output_type": "execute_result"
    }
   ],
   "source": [
    "from sklearn.metrics import r2_score, explained_variance_score\n",
    "\n",
    "# Compute R^2 score\n",
    "r2 = r2_score(df_combined['Score'], df_combined['aoxu_nnetregCG_1M'])\n",
    "\n",
    "# Compute Q^2 score\n",
    "q2 = explained_variance_score(df_combined['Score'], df_combined['aoxu_nnetregCG_1M'])\n",
    "\n",
    "r2, q2"
   ]
  },
  {
   "cell_type": "code",
   "execution_count": null,
   "metadata": {},
   "outputs": [],
   "source": []
  }
 ],
 "metadata": {
  "kernelspec": {
   "display_name": "base",
   "language": "python",
   "name": "python3"
  },
  "language_info": {
   "codemirror_mode": {
    "name": "ipython",
    "version": 3
   },
   "file_extension": ".py",
   "mimetype": "text/x-python",
   "name": "python",
   "nbconvert_exporter": "python",
   "pygments_lexer": "ipython3",
   "version": "3.8.5"
  }
 },
 "nbformat": 4,
 "nbformat_minor": 2
}
